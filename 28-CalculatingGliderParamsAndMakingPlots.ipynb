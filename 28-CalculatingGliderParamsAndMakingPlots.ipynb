{
 "cells": [
  {
   "cell_type": "markdown",
   "metadata": {},
   "source": [
    "This notebook calculates secondary parameters from the measured glider data. It uses the **`gliderParameterCalcs`** module."
   ]
  },
  {
   "cell_type": "markdown",
   "metadata": {},
   "source": [
    "# Initializing\n",
    "\n",
    "## Required modules"
   ]
  },
  {
   "cell_type": "code",
   "execution_count": 1,
   "metadata": {},
   "outputs": [],
   "source": [
    "import xarray as xr\n",
    "import pandas as pd\n",
    "import numpy as np\n",
    "import os\n",
    "import re\n",
    "import gliderParameterCalcs as gpc\n",
    "import quenchingFunctions as qf\n",
    "\n",
    "import warnings\n",
    "\n",
    "warnings.filterwarnings('ignore')"
   ]
  },
  {
   "cell_type": "markdown",
   "metadata": {},
   "source": [
    "## File list"
   ]
  },
  {
   "cell_type": "code",
   "execution_count": 2,
   "metadata": {},
   "outputs": [],
   "source": [
    "parentDir = '../../data/mission-netcdf/quenchingCorrected-v4/'\n",
    "files = os.listdir(parentDir)\n",
    "gFiles = [parentDir + ff for ff in files if os.path.isfile(parentDir+ff)]"
   ]
  },
  {
   "cell_type": "markdown",
   "metadata": {},
   "source": [
    "## Mission names"
   ]
  },
  {
   "cell_type": "code",
   "execution_count": 3,
   "metadata": {},
   "outputs": [],
   "source": [
    "fullnames = [ff[:-3] for ff in files if os.path.isfile(parentDir+ff)]\n",
    "directions = ['east','west']\n",
    "mid = [fn + '_' + dd for fn in fullnames for dd in directions]"
   ]
  },
  {
   "cell_type": "markdown",
   "metadata": {},
   "source": [
    "# Making `secondaryParams-v2`"
   ]
  },
  {
   "cell_type": "code",
   "execution_count": 4,
   "metadata": {},
   "outputs": [
    {
     "name": "stdout",
     "output_type": "stream",
     "text": [
      "henry-mission18\n",
      "grampus-mission1\n",
      "grampus-mission2.1\n",
      "grampus-mission2\n",
      "grampus-mission3\n",
      "grampus-mission4\n",
      "grampus-mission5\n",
      "grampus-mission6\n",
      "grampus-mission7\n",
      "grampus-mission8\n",
      "henry-mission1\n",
      "henry-mission2\n",
      "henry-mission3\n",
      "henry-mission4\n",
      "henry-mission5\n",
      "henry-mission6\n",
      "henry-mission7.1\n",
      "henry-mission7\n",
      "henry-mission8\n",
      "henry-mission9\n",
      "henry-mission10\n",
      "henry-mission11\n",
      "henry-mission12\n",
      "henry-mission13\n",
      "henry-mission14\n",
      "henry-mission15\n",
      "henry-mission16\n",
      "henry-mission17\n"
     ]
    }
   ],
   "source": [
    "MLD = {}\n",
    "QI = {}\n",
    "Zeu = {}\n",
    "Zchl = {}\n",
    "PAR = {}\n",
    "chlC = {}\n",
    "bbC = {}\n",
    "sStrength = {}\n",
    "avChl = {}\n",
    "intChl = {}\n",
    "intChl2 = {}\n",
    "intChl3 = {}\n",
    "times = {}\n",
    "for gf in gFiles:\n",
    "    gdata = xr.open_dataset(gf)\n",
    "    gid = re.split('/',gf)[-1][:-3]\n",
    "    print(gid)\n",
    "\n",
    "    ## PAR\n",
    "    par = gpc.PARcalc(gdata)\n",
    "    pars = {}\n",
    "    for dd in ['east','west']:\n",
    "        pars[dd] = np.nanmean(par[dd][0:10,:],axis = 0)    \n",
    "    PAR[gid] = pars\n",
    "\n",
    "    ## MLD\n",
    "    mld = gpc.MLDCalc(gdata)\n",
    "    MLD[gid] = mld    \n",
    "\n",
    "    #QI\n",
    "    density_smooth = gpc.smoothing(gdata,'sigmat',7,3)\n",
    "    qi = gpc.QICalc(density_smooth, mld, gdata.zbin.data)\n",
    "    QI[gid] = qi\n",
    "\n",
    "    ## Calculating Zeu\n",
    "    zeu = gpc.Zeucalc(gdata,par) ###### SHOULD BE PAR??\n",
    "    Zeu[gid] = zeu\n",
    "\n",
    "    ## Stratification strength\n",
    "    ss = gpc.stratStrengthcalc_smooth(gdata)\n",
    "    sStrength[gid] = ss\n",
    "\n",
    "    try:\n",
    "        ##average chl in upper 65m\n",
    "        achl = gpc.avChlcalc_corr(gdata)\n",
    "        avChl[gid] = achl\n",
    "\n",
    "        ##integrated chl in upper 65m\n",
    "        ichl = gpc.intChlcalc_corr_depth(gdata,65)\n",
    "        intChl[gid] = ichl\n",
    "        ichl2 = gpc.intChlcalc_corr_depth(gdata,100)\n",
    "        intChl2[gid] = ichl2\n",
    "        ichl3 = gpc.intChlcalc_corr_depth(gdata,200)\n",
    "        intChl3[gid] = ichl3\n",
    "\n",
    "    except KeyError:\n",
    "        \n",
    "        avChl[gid] = {k:v*np.nan for k, v in zeu.items()}\n",
    "        intChl[gid] = {k:v*np.nan for k, v in zeu.items()}\n",
    "        intChl2[gid] = {k:v*np.nan for k, v in zeu.items()}\n",
    "        intChl3[gid] = {k:v*np.nan for k, v in zeu.items()}\n",
    "        \n",
    "    #time\n",
    "    tt = {}\n",
    "    for dd in ['east','west']:\n",
    "        daytime = gdata['day_'+dd].data\n",
    "        tt[dd] = np.expand_dims(np.nanmean(daytime,axis = 0)- (5./24.),axis=0)\n",
    "    times[gid] = tt\n",
    "    \n",
    "varnames = list(Zeu.keys())\n",
    "secondaryParams = xr.Dataset()\n",
    "secondaryParams.coords['lonbin'] = ('lonbin',gdata['lonbin'].data)\n",
    "\n",
    "Zeuphotic = np.ones((len(varnames)*2,297))*np.nan\n",
    "Zml = np.ones((len(varnames)*2,297))*np.nan\n",
    "QImld = np.ones((len(varnames)*2,297))*np.nan\n",
    "par = np.ones((len(varnames)*2,297))*np.nan\n",
    "stratSt = np.ones((len(varnames)*2,297))*np.nan\n",
    "avchl = np.ones((len(varnames)*2,297))*np.nan\n",
    "intchl = np.ones((len(varnames)*2,297))*np.nan\n",
    "intchl2 = np.ones((len(varnames)*2,297))*np.nan\n",
    "intchl3 = np.ones((len(varnames)*2,297))*np.nan\n",
    "jtime = np.ones((len(varnames)*2,297))*np.nan\n",
    "ids = []\n",
    "for jj,dd in enumerate(['east','west']):\n",
    "    for ii,vv in enumerate(varnames):\n",
    "        Zeuphotic[ii+len(varnames)*jj,:] = Zeu[vv][dd]\n",
    "        Zml[ii+len(varnames)*jj,:] = MLD[vv][dd]\n",
    "        QImld[ii+len(varnames)*jj,:] = QI[vv][dd]\n",
    "        par[ii+len(varnames)*jj,:] = PAR[vv][dd]\n",
    "        avchl[ii+len(varnames)*jj,:] = avChl[vv][dd]\n",
    "        intchl[ii+len(varnames)*jj,:] = intChl[vv][dd]\n",
    "        intchl2[ii+len(varnames)*jj,:] = intChl2[vv][dd]\n",
    "        intchl3[ii+len(varnames)*jj,:] = intChl3[vv][dd]\n",
    "        stratSt[ii+len(varnames)*jj,:] = sStrength[vv][dd]\n",
    "        jtime[ii+len(varnames)*jj,:] = times[vv][dd]\n",
    "        ids += [vv+'_'+dd]\n",
    "\n",
    "secondaryParams.coords['mission'] = ('mission',ids)\n",
    "secondaryParams['Zeu'] = (('mission','lonbin'),Zeuphotic)\n",
    "secondaryParams['MLD'] = (('mission','lonbin'),Zml)\n",
    "secondaryParams['QI'] = (('mission','lonbin'),QImld)\n",
    "secondaryParams['PAR'] = (('mission','lonbin'),par)\n",
    "secondaryParams['intChl65'] = (('mission','lonbin'),intchl)\n",
    "secondaryParams['intChl100'] = (('mission','lonbin'),intchl3)\n",
    "secondaryParams['intChl200'] = (('mission','lonbin'),intchl3)\n",
    "secondaryParams['avChl'] = (('mission','lonbin'),avchl)\n",
    "secondaryParams['sStrength'] = (('mission','lonbin'),stratSt)\n",
    "secondaryParams['times'] = (('mission','lonbin'),jtime)\n",
    "\n",
    "secondaryParams.to_netcdf('secondaryParams.nc')"
   ]
  }
 ],
 "metadata": {
  "kernelspec": {
   "display_name": "Python 3",
   "language": "python",
   "name": "python3"
  },
  "language_info": {
   "codemirror_mode": {
    "name": "ipython",
    "version": 3
   },
   "file_extension": ".py",
   "mimetype": "text/x-python",
   "name": "python",
   "nbconvert_exporter": "python",
   "pygments_lexer": "ipython3",
   "version": "3.8.3"
  }
 },
 "nbformat": 4,
 "nbformat_minor": 4
}
